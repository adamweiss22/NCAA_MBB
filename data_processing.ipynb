{
 "cells": [
  {
   "cell_type": "code",
   "execution_count": 1,
   "metadata": {},
   "outputs": [],
   "source": [
    "import pandas as pd\n",
    "import os\n",
    "import csv"
   ]
  },
  {
   "cell_type": "code",
   "execution_count": 3,
   "metadata": {},
   "outputs": [
    {
     "name": "stderr",
     "output_type": "stream",
     "text": [
      "/tmp/ipykernel_3028/3631297470.py:1: DtypeWarning: Columns (4,7,8,9,10,11,16,21,58) have mixed types. Specify dtype option on import or set low_memory=False.\n",
      "  df = pd.read_csv(\"mbb_teams_games_sr.csv\")\n"
     ]
    }
   ],
   "source": [
    "df = pd.read_csv(\"mbb_teams_games_sr.csv\")"
   ]
  },
  {
   "cell_type": "code",
   "execution_count": 4,
   "metadata": {},
   "outputs": [
    {
     "data": {
      "text/plain": [
       "59610"
      ]
     },
     "execution_count": 4,
     "metadata": {},
     "output_type": "execute_result"
    }
   ],
   "source": [
    "len(df)"
   ]
  },
  {
   "cell_type": "code",
   "execution_count": 5,
   "metadata": {},
   "outputs": [],
   "source": [
    "def get_info(game):\n",
    "    return [game.scheduled_date,game.home_team,game.neutral_site,(game.opp_market + game.opp_name),game.conference_game,game.attendance,\n",
    "            game.lead_changes,game.times_tied,game.venue_capacity,game.points_game,\n",
    "            game.field_goals_made,game.field_goals_att,game.field_goals_pct,game.three_points_made,game.three_points_att,\n",
    "            game.three_points_pct,game.two_points_made,game.two_points_att,game.two_points_pct,game.blocked_att,\n",
    "            game.free_throws_made,game.free_throws_att,game.free_throws_pct,game.offensive_rebounds,\n",
    "            game.defensive_rebounds,game.rebounds,game.assists,game.turnovers,game.steals,game.blocks,\n",
    "            game.assists_turnover_ratio,game.personal_fouls,game.ejections,game.foulouts,game.fast_break_pts,\n",
    "            game.second_chance_pts,game.team_turnovers,game.points_off_turnovers,game.team_rebounds,game.flagrant_fouls,\n",
    "            game.player_tech_fouls,game.team_tech_fouls,game.coach_tech_fouls,game.opp_points_game,\n",
    "            game.opp_field_goals_made,game.opp_field_goals_att,game.opp_field_goals_pct,\n",
    "            game.opp_three_points_made,game.opp_three_points_att,game.opp_three_points_pct,\n",
    "            game.opp_two_points_made,game.opp_two_points_att,game.opp_two_points_pct,\n",
    "            game.opp_blocked_att,game.opp_free_throws_made,game.opp_free_throws_att,game.opp_free_throws_pct,\n",
    "            game.opp_offensive_rebounds,game.opp_defensive_rebounds,game.opp_rebounds,game.opp_assists,\n",
    "            game.opp_turnovers,game.opp_steals,game.opp_blocks,game.opp_assists_turnover_ratio,game.opp_personal_fouls,\n",
    "            game.opp_ejections,game.opp_foulouts,game.opp_fast_break_pts,game.opp_second_chance_pts,\n",
    "            game.opp_team_turnovers,game.opp_points_off_turnovers,game.opp_team_rebounds,game.opp_flagrant_fouls,\n",
    "            game.opp_player_tech_fouls,game.opp_team_tech_fouls,game.opp_coach_tech_fouls,game.win]\n",
    "\n",
    "header = ['date','home','neutral_site','opponent','conference_game','attendance',\n",
    "            'lead_changes','times_tied','venue_capacity','points',\n",
    "            'field_goals_made','field_goals_att','field_goal_pct','three_points_made','three_points_att',\n",
    "            'three_point_pct','two_points_made','two_points_att','two_points_pct','blocked_att',\n",
    "            'free_throws_made','free_throws_att','free_throw_pct','offensive_rebounds',\n",
    "            'defensive_rebounds','rebounds','assists','turnovers','steals','blocks',\n",
    "            'assists_turnover_ratio','personal_fouls','ejections','foulouts','fast_break_pts',\n",
    "            'second_chance_pts','team_turnovers','points_off_turnovers','team_rebounds','flagrant_fouls',\n",
    "            'player_tech_fouls','team_tech_fouls','coach_tech_fouls', 'win', 'allowed_points',\n",
    "            \"opp_field_goals_made\",\"opp_field_goals_att\",\"opp_field_goals_pct\",\"opp_three_points_made\",\n",
    "            \"opp_three_points_att\",\"opp_three_points_pct\",\"opp_two_points_made\",\"opp_two_points_att\",\n",
    "            \"opp_two_points_pct\",\"opp_blocked_att\",\"opp_free_throws_made\",\"opp_free_throws_att\",\n",
    "            \"opp_free_throws_pct\",\"opp_offensive_rebounds\",\"opp_defensive_rebounds\",\"opp_rebounds\",\n",
    "            \"opp_assists\",\"opp_turnovers\",\"opp_steals\",\"opp_blocks\",\"opp_assists_turnover_ratio\",\n",
    "            \"opp_personal_fouls\",\"opp_ejections\",\"opp_foulouts\",\"opp_points\",\"opp_fast_break_pts\",\n",
    "            \"opp_second_chance_pts\",\"opp_team_turnovers\",\"opp_points_off_turnovers\",\"opp_team_rebounds\",\n",
    "            \"opp_flagrant_fouls\",\"opp_player_tech_fouls\",\"opp_team_tech_fouls\",\"opp_coach_tech_fouls\"]\n"
   ]
  },
  {
   "cell_type": "code",
   "execution_count": 6,
   "metadata": {},
   "outputs": [
    {
     "name": "stdout",
     "output_type": "stream",
     "text": [
      "Pandas(Index=20335, game_id='28c02e5b-6400-4d7c-8238-13dc61dfc918', season=2013, status='closed', coverage='boxscore', neutral_site=nan, scheduled_date='2013-11-14', gametime='2013-11-14 01:00:00+00:00', conference_game=False, tournament=nan, tournament_type=nan, tournament_round=nan, tournament_game_no=nan, attendance=nan, lead_changes=nan, times_tied=nan, periods=2.0, possession_arrow=nan, venue_id='a6bf0915-b261-444f-887f-e5fa7cc8599a', venue_city='Grand Forks', venue_state='ND', venue_address='One Ralph Engelstad Arena Drive', venue_zip=58203, venue_country='USA', venue_name='Betty Engelstad Sioux Center', venue_capacity=3300.0, home_team=False, name='Cougars', market='Minnesota Morris', team_id='07be8eec-afc2-4c97-a1b9-475ec123c1d3', alias='MMOR', league_id='cd4268ee-07aa-4c4d-a435-ec44ad2c76cb', league_name='NCAA MEN', league_alias='NCAAM', conf_id='5f52fb89-301e-4956-a693-ef8bd9a12281', conf_name='Upper Midwest Athletic Conference', conf_alias='UMAC', division_id='d0196fdb-369c-4318-a318-d8e7b986ffb8', division_name='NCAA Division III', division_alias='D3', logo_large=nan, logo_medium=nan, logo_small=nan, opp_name=nan, opp_market='North Dakota', opp_id='de8fc8a7-253f-4597-8a48-a0104ef226ae', opp_alias='UND', opp_league_id='cd4268ee-07aa-4c4d-a435-ec44ad2c76cb', opp_league_name='NCAA MEN', opp_league_alias='NCAAM', opp_conf_id='3126fb79-47a7-4a57-b065-8b9d1bdb660d', opp_conf_name='Big Sky', opp_conf_alias='BIGSKY', opp_division_id='c5a8d640-5093-4044-851d-2c562e929994', opp_division_name='NCAA Division I', opp_division_alias='D1', opp_logo_large='https://www.ncaa.com/sites/default/files/images/logos/schools/n/north-dakota.200.png', opp_logo_medium='https://www.ncaa.com/sites/default/files/images/logos/schools/n/north-dakota.70.png', opp_logo_small='https://www.ncaa.com/sites/default/files/images/logos/schools/n/north-dakota.24.png', win=False, points_game=69, minutes=nan, field_goals_made=nan, field_goals_att=nan, field_goals_pct=nan, three_points_made=nan, three_points_att=nan, three_points_pct=nan, two_points_made=nan, two_points_att=nan, two_points_pct=nan, blocked_att=nan, free_throws_made=nan, free_throws_att=nan, free_throws_pct=nan, offensive_rebounds=nan, defensive_rebounds=nan, rebounds=nan, assists=nan, turnovers=nan, steals=nan, blocks=nan, assists_turnover_ratio=nan, personal_fouls=nan, ejections=nan, foulouts=nan, points=nan, fast_break_pts=nan, second_chance_pts=nan, team_turnovers=nan, points_off_turnovers=nan, team_rebounds=nan, flagrant_fouls=nan, player_tech_fouls=nan, team_tech_fouls=nan, coach_tech_fouls=nan, opp_points_game=110, opp_minutes=nan, opp_field_goals_made=nan, opp_field_goals_att=nan, opp_field_goals_pct=nan, opp_three_points_made=nan, opp_three_points_att=nan, opp_three_points_pct=nan, opp_two_points_made=nan, opp_two_points_att=nan, opp_two_points_pct=nan, opp_blocked_att=nan, opp_free_throws_made=nan, opp_free_throws_att=nan, opp_free_throws_pct=nan, opp_offensive_rebounds=nan, opp_defensive_rebounds=nan, opp_rebounds=nan, opp_assists=nan, opp_turnovers=nan, opp_steals=nan, opp_blocks=nan, opp_assists_turnover_ratio=nan, opp_personal_fouls=nan, opp_ejections=nan, opp_foulouts=nan, opp_points=nan, opp_fast_break_pts=nan, opp_second_chance_pts=nan, opp_team_turnovers=nan, opp_points_off_turnovers=nan, opp_team_rebounds=nan, opp_flagrant_fouls=nan, opp_player_tech_fouls=nan, opp_team_tech_fouls=nan, opp_coach_tech_fouls=nan, created='2018-02-20 15:57:48+00:00')\n",
      "Pandas(Index=20669, game_id='28c02e5b-6400-4d7c-8238-13dc61dfc918', season=2013, status='closed', coverage='boxscore', neutral_site=nan, scheduled_date='2013-11-14', gametime='2013-11-14 01:00:00+00:00', conference_game=False, tournament=nan, tournament_type=nan, tournament_round=nan, tournament_game_no=nan, attendance=nan, lead_changes=nan, times_tied=nan, periods=2.0, possession_arrow=nan, venue_id='a6bf0915-b261-444f-887f-e5fa7cc8599a', venue_city='Grand Forks', venue_state='ND', venue_address='One Ralph Engelstad Arena Drive', venue_zip=58203.0, venue_country='USA', venue_name='Betty Engelstad Sioux Center', venue_capacity=3300.0, home_team=True, name=nan, market='North Dakota', team_id='de8fc8a7-253f-4597-8a48-a0104ef226ae', alias='UND', league_id='cd4268ee-07aa-4c4d-a435-ec44ad2c76cb', league_name='NCAA MEN', league_alias='NCAAM', conf_id='3126fb79-47a7-4a57-b065-8b9d1bdb660d', conf_name='Big Sky', conf_alias='BIGSKY', division_id='c5a8d640-5093-4044-851d-2c562e929994', division_name='NCAA Division I', division_alias='D1', logo_large='https://www.ncaa.com/sites/default/files/images/logos/schools/n/north-dakota.200.png', logo_medium='https://www.ncaa.com/sites/default/files/images/logos/schools/n/north-dakota.70.png', logo_small='https://www.ncaa.com/sites/default/files/images/logos/schools/n/north-dakota.24.png', opp_name='Cougars', opp_market='Minnesota Morris', opp_id='07be8eec-afc2-4c97-a1b9-475ec123c1d3', opp_alias='MMOR', opp_league_id='cd4268ee-07aa-4c4d-a435-ec44ad2c76cb', opp_league_name='NCAA MEN', opp_league_alias='NCAAM', opp_conf_id='5f52fb89-301e-4956-a693-ef8bd9a12281', opp_conf_name='Upper Midwest Athletic Conference', opp_conf_alias='UMAC', opp_division_id='d0196fdb-369c-4318-a318-d8e7b986ffb8', opp_division_name='NCAA Division III', opp_division_alias='D3', opp_logo_large=nan, opp_logo_medium=nan, opp_logo_small=nan, win=True, points_game=110, minutes=nan, field_goals_made=nan, field_goals_att=nan, field_goals_pct=nan, three_points_made=nan, three_points_att=nan, three_points_pct=nan, two_points_made=nan, two_points_att=nan, two_points_pct=nan, blocked_att=nan, free_throws_made=nan, free_throws_att=nan, free_throws_pct=nan, offensive_rebounds=nan, defensive_rebounds=nan, rebounds=nan, assists=nan, turnovers=nan, steals=nan, blocks=nan, assists_turnover_ratio=nan, personal_fouls=nan, ejections=nan, foulouts=nan, points=nan, fast_break_pts=nan, second_chance_pts=nan, team_turnovers=nan, points_off_turnovers=nan, team_rebounds=nan, flagrant_fouls=nan, player_tech_fouls=nan, team_tech_fouls=nan, coach_tech_fouls=nan, opp_points_game=69, opp_minutes=nan, opp_field_goals_made=nan, opp_field_goals_att=nan, opp_field_goals_pct=nan, opp_three_points_made=nan, opp_three_points_att=nan, opp_three_points_pct=nan, opp_two_points_made=nan, opp_two_points_att=nan, opp_two_points_pct=nan, opp_blocked_att=nan, opp_free_throws_made=nan, opp_free_throws_att=nan, opp_free_throws_pct=nan, opp_offensive_rebounds=nan, opp_defensive_rebounds=nan, opp_rebounds=nan, opp_assists=nan, opp_turnovers=nan, opp_steals=nan, opp_blocks=nan, opp_assists_turnover_ratio=nan, opp_personal_fouls=nan, opp_ejections=nan, opp_foulouts=nan, opp_points=nan, opp_fast_break_pts=nan, opp_second_chance_pts=nan, opp_team_turnovers=nan, opp_points_off_turnovers=nan, opp_team_rebounds=nan, opp_flagrant_fouls=nan, opp_player_tech_fouls=nan, opp_team_tech_fouls=nan, opp_coach_tech_fouls=nan, created='2018-02-20 15:57:48+00:00')\n"
     ]
    }
   ],
   "source": [
    "x = 0\n",
    "for game in df.itertuples():\n",
    "    try:\n",
    "        file_path = \"BQdata/\" + game.market.replace(\" \", \"_\") + \"_\" + game.name.replace(\" \", \"_\") + \".csv\"\n",
    "\n",
    "        if os.path.exists(file_path):\n",
    "            with open(file_path, 'a', newline='', encoding='utf-8') as file:\n",
    "                writer = csv.writer(file)\n",
    "                writer.writerow(get_info(game))\n",
    "        else:\n",
    "            with open(file_path, mode='w', newline='', encoding='utf-8') as file:\n",
    "                writer = csv.writer(file)\n",
    "                writer.writerow(header)\n",
    "                writer.writerow(get_info(game))\n",
    "    \n",
    "    except Exception as e:\n",
    "        print(game)\n",
    "    x = x+1\n",
    "\n",
    "\n"
   ]
  },
  {
   "cell_type": "markdown",
   "metadata": {},
   "source": []
  },
  {
   "cell_type": "code",
   "execution_count": null,
   "metadata": {},
   "outputs": [],
   "source": []
  }
 ],
 "metadata": {
  "kernelspec": {
   "display_name": "Python 3",
   "language": "python",
   "name": "python3"
  },
  "language_info": {
   "codemirror_mode": {
    "name": "ipython",
    "version": 3
   },
   "file_extension": ".py",
   "mimetype": "text/x-python",
   "name": "python",
   "nbconvert_exporter": "python",
   "pygments_lexer": "ipython3",
   "version": "3.10.12"
  },
  "orig_nbformat": 4
 },
 "nbformat": 4,
 "nbformat_minor": 2
}
