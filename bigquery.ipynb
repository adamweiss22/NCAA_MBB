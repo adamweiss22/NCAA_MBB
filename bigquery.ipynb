{
 "cells": [
  {
   "cell_type": "code",
   "execution_count": 1,
   "metadata": {},
   "outputs": [],
   "source": [
    "from google.cloud import bigquery\n",
    "bq = bigquery.Client()"
   ]
  },
  {
   "cell_type": "code",
   "execution_count": 2,
   "metadata": {},
   "outputs": [],
   "source": [
    "q = bq.query(\n",
    "\"\"\"\n",
    "SELECT *\n",
    "FROM `bigquery-public-data.ncaa_basketball.mbb_teams_games_sr` \n",
    "\"\"\")\n",
    "\n",
    "df = q.to_dataframe()\n",
    "\n",
    "df.to_csv('mbb_teams_games_sr.csv', index=False)"
   ]
  },
  {
   "cell_type": "code",
   "execution_count": 9,
   "metadata": {},
   "outputs": [],
   "source": [
    "text =''\n",
    "for col in df.columns:\n",
    "    text += \"\\n\" + col\n",
    "\n",
    "\n",
    "\n",
    "with open('output.txt', 'w') as file:\n",
    "    file.write(text)\n",
    "\n",
    "# Now you can open 'output.txt' in your text editor to view the content\n"
   ]
  },
  {
   "cell_type": "code",
   "execution_count": 6,
   "metadata": {},
   "outputs": [
    {
     "data": {
      "text/plain": [
       "59610"
      ]
     },
     "execution_count": 6,
     "metadata": {},
     "output_type": "execute_result"
    }
   ],
   "source": [
    "len(df)"
   ]
  },
  {
   "cell_type": "code",
   "execution_count": 5,
   "metadata": {},
   "outputs": [],
   "source": [
    "d1_teams_ids = \"c5a8d640-5093-4044-851d-2c562e929994\""
   ]
  },
  {
   "cell_type": "code",
   "execution_count": null,
   "metadata": {},
   "outputs": [],
   "source": []
  }
 ],
 "metadata": {
  "kernelspec": {
   "display_name": "Python 3",
   "language": "python",
   "name": "python3"
  },
  "language_info": {
   "codemirror_mode": {
    "name": "ipython",
    "version": 3
   },
   "file_extension": ".py",
   "mimetype": "text/x-python",
   "name": "python",
   "nbconvert_exporter": "python",
   "pygments_lexer": "ipython3",
   "version": "3.10.12"
  },
  "orig_nbformat": 4
 },
 "nbformat": 4,
 "nbformat_minor": 2
}
